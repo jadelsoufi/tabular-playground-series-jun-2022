{
 "cells": [
  {
   "cell_type": "code",
   "execution_count": 28,
   "id": "9c38936e",
   "metadata": {
    "id": "9c38936e"
   },
   "outputs": [],
   "source": [
    "import pandas as pd\n",
    "import seaborn as sns\n",
    "import matplotlib.pyplot as plt \n",
    "import numpy as np\n",
    "import missingno as msno\n",
    "\n",
    "%matplotlib inline\n",
    "\n",
    "#pd.set_option('display.max_columns', 500)\n",
    "#pd.set_option('display.max_rows', 200)"
   ]
  },
  {
   "cell_type": "code",
   "execution_count": 29,
   "id": "pC9WtPJp_UrE",
   "metadata": {
    "colab": {
     "base_uri": "https://localhost:8080/"
    },
    "id": "pC9WtPJp_UrE",
    "outputId": "092c1fc4-5af3-49e0-9d50-ac4eb7a32c9a"
   },
   "outputs": [
    {
     "name": "stdout",
     "output_type": "stream",
     "text": [
      "Drive already mounted at /content/drive; to attempt to forcibly remount, call drive.mount(\"/content/drive\", force_remount=True).\n"
     ]
    }
   ],
   "source": [
    "from google.colab import drive\n",
    "drive.mount('/content/drive')"
   ]
  },
  {
   "cell_type": "code",
   "execution_count": 30,
   "id": "f68522fa",
   "metadata": {
    "id": "f68522fa"
   },
   "outputs": [],
   "source": [
    "path_data = '/content/drive/MyDrive/OpenClassRooms/Projet 8/data.csv'\n",
    "path_sample = '/content/drive/MyDrive/OpenClassRooms/Projet 8/sample_submission.csv'\n",
    "data = pd.read_csv(path_data, index_col='row_id')\n",
    "sub = pd.read_csv(path_sample)"
   ]
  },
  {
   "cell_type": "code",
   "execution_count": 31,
   "id": "747bbeed",
   "metadata": {
    "colab": {
     "base_uri": "https://localhost:8080/"
    },
    "id": "747bbeed",
    "outputId": "385067e3-8989-4a79-ba52-57b774bea71f"
   },
   "outputs": [
    {
     "data": {
      "text/plain": [
       "(1000000, 80)"
      ]
     },
     "execution_count": 31,
     "metadata": {},
     "output_type": "execute_result"
    }
   ],
   "source": [
    "data.shape"
   ]
  },
  {
   "cell_type": "code",
   "execution_count": 32,
   "id": "8558e883",
   "metadata": {
    "colab": {
     "base_uri": "https://localhost:8080/",
     "height": 519
    },
    "id": "8558e883",
    "outputId": "3b1e7b22-bc69-4956-adab-37bc9266a60a"
   },
   "outputs": [
    {
     "data": {
      "text/html": [
       "\n",
       "  <div id=\"df-a4dfdd61-714c-49b7-9b64-e79e28462b4e\">\n",
       "    <div class=\"colab-df-container\">\n",
       "      <div>\n",
       "<style scoped>\n",
       "    .dataframe tbody tr th:only-of-type {\n",
       "        vertical-align: middle;\n",
       "    }\n",
       "\n",
       "    .dataframe tbody tr th {\n",
       "        vertical-align: top;\n",
       "    }\n",
       "\n",
       "    .dataframe thead th {\n",
       "        text-align: right;\n",
       "    }\n",
       "</style>\n",
       "<table border=\"1\" class=\"dataframe\">\n",
       "  <thead>\n",
       "    <tr style=\"text-align: right;\">\n",
       "      <th></th>\n",
       "      <th>F_1_0</th>\n",
       "      <th>F_1_1</th>\n",
       "      <th>F_1_2</th>\n",
       "      <th>F_1_3</th>\n",
       "      <th>F_1_4</th>\n",
       "      <th>F_1_5</th>\n",
       "      <th>F_1_6</th>\n",
       "      <th>F_1_7</th>\n",
       "      <th>F_1_8</th>\n",
       "      <th>F_1_9</th>\n",
       "      <th>...</th>\n",
       "      <th>F_4_5</th>\n",
       "      <th>F_4_6</th>\n",
       "      <th>F_4_7</th>\n",
       "      <th>F_4_8</th>\n",
       "      <th>F_4_9</th>\n",
       "      <th>F_4_10</th>\n",
       "      <th>F_4_11</th>\n",
       "      <th>F_4_12</th>\n",
       "      <th>F_4_13</th>\n",
       "      <th>F_4_14</th>\n",
       "    </tr>\n",
       "    <tr>\n",
       "      <th>row_id</th>\n",
       "      <th></th>\n",
       "      <th></th>\n",
       "      <th></th>\n",
       "      <th></th>\n",
       "      <th></th>\n",
       "      <th></th>\n",
       "      <th></th>\n",
       "      <th></th>\n",
       "      <th></th>\n",
       "      <th></th>\n",
       "      <th></th>\n",
       "      <th></th>\n",
       "      <th></th>\n",
       "      <th></th>\n",
       "      <th></th>\n",
       "      <th></th>\n",
       "      <th></th>\n",
       "      <th></th>\n",
       "      <th></th>\n",
       "      <th></th>\n",
       "      <th></th>\n",
       "    </tr>\n",
       "  </thead>\n",
       "  <tbody>\n",
       "    <tr>\n",
       "      <th>0</th>\n",
       "      <td>-0.354591</td>\n",
       "      <td>-0.464038</td>\n",
       "      <td>2.304115</td>\n",
       "      <td>0.734486</td>\n",
       "      <td>1.696395</td>\n",
       "      <td>0.136285</td>\n",
       "      <td>-0.518344</td>\n",
       "      <td>0.502640</td>\n",
       "      <td>-1.852504</td>\n",
       "      <td>-0.500665</td>\n",
       "      <td>...</td>\n",
       "      <td>3.744152</td>\n",
       "      <td>0.794438</td>\n",
       "      <td>0.265185</td>\n",
       "      <td>-0.561809</td>\n",
       "      <td>0.196480</td>\n",
       "      <td>0.373434</td>\n",
       "      <td>6.206995</td>\n",
       "      <td>3.809505</td>\n",
       "      <td>1.236486</td>\n",
       "      <td>1.182055</td>\n",
       "    </tr>\n",
       "    <tr>\n",
       "      <th>1</th>\n",
       "      <td>1.380940</td>\n",
       "      <td>-0.499626</td>\n",
       "      <td>-0.418548</td>\n",
       "      <td>1.911725</td>\n",
       "      <td>-0.826130</td>\n",
       "      <td>-1.715371</td>\n",
       "      <td>-0.577091</td>\n",
       "      <td>-1.041486</td>\n",
       "      <td>0.596067</td>\n",
       "      <td>-0.363425</td>\n",
       "      <td>...</td>\n",
       "      <td>-2.895826</td>\n",
       "      <td>-0.738275</td>\n",
       "      <td>2.361818</td>\n",
       "      <td>-0.060753</td>\n",
       "      <td>0.727249</td>\n",
       "      <td>-0.271882</td>\n",
       "      <td>5.232157</td>\n",
       "      <td>-4.218259</td>\n",
       "      <td>-2.724883</td>\n",
       "      <td>-0.063775</td>\n",
       "    </tr>\n",
       "    <tr>\n",
       "      <th>2</th>\n",
       "      <td>0.256023</td>\n",
       "      <td>-1.059874</td>\n",
       "      <td>NaN</td>\n",
       "      <td>0.345678</td>\n",
       "      <td>1.513814</td>\n",
       "      <td>1.243864</td>\n",
       "      <td>-0.509648</td>\n",
       "      <td>-0.800481</td>\n",
       "      <td>-0.115945</td>\n",
       "      <td>0.595777</td>\n",
       "      <td>...</td>\n",
       "      <td>2.252834</td>\n",
       "      <td>0.472496</td>\n",
       "      <td>2.491386</td>\n",
       "      <td>0.353381</td>\n",
       "      <td>-0.260682</td>\n",
       "      <td>-0.000833</td>\n",
       "      <td>-0.116457</td>\n",
       "      <td>-2.131747</td>\n",
       "      <td>3.661499</td>\n",
       "      <td>-0.131576</td>\n",
       "    </tr>\n",
       "    <tr>\n",
       "      <th>3</th>\n",
       "      <td>-0.728420</td>\n",
       "      <td>-2.432399</td>\n",
       "      <td>-2.453602</td>\n",
       "      <td>-0.020509</td>\n",
       "      <td>0.333397</td>\n",
       "      <td>0.086049</td>\n",
       "      <td>-1.787601</td>\n",
       "      <td>0.667011</td>\n",
       "      <td>0.761564</td>\n",
       "      <td>-2.217847</td>\n",
       "      <td>...</td>\n",
       "      <td>2.004600</td>\n",
       "      <td>-4.664806</td>\n",
       "      <td>-0.847211</td>\n",
       "      <td>-0.264249</td>\n",
       "      <td>0.664334</td>\n",
       "      <td>-0.557868</td>\n",
       "      <td>8.499483</td>\n",
       "      <td>-4.738799</td>\n",
       "      <td>-3.054611</td>\n",
       "      <td>0.494152</td>\n",
       "    </tr>\n",
       "    <tr>\n",
       "      <th>4</th>\n",
       "      <td>0.590212</td>\n",
       "      <td>-0.066127</td>\n",
       "      <td>0.468009</td>\n",
       "      <td>-1.096038</td>\n",
       "      <td>0.119399</td>\n",
       "      <td>-1.809710</td>\n",
       "      <td>0.466358</td>\n",
       "      <td>-0.053196</td>\n",
       "      <td>-0.580320</td>\n",
       "      <td>-1.143500</td>\n",
       "      <td>...</td>\n",
       "      <td>0.976937</td>\n",
       "      <td>2.558883</td>\n",
       "      <td>3.377724</td>\n",
       "      <td>0.846891</td>\n",
       "      <td>0.696032</td>\n",
       "      <td>0.554121</td>\n",
       "      <td>-5.979714</td>\n",
       "      <td>-2.869631</td>\n",
       "      <td>3.733057</td>\n",
       "      <td>-0.722943</td>\n",
       "    </tr>\n",
       "    <tr>\n",
       "      <th>...</th>\n",
       "      <td>...</td>\n",
       "      <td>...</td>\n",
       "      <td>...</td>\n",
       "      <td>...</td>\n",
       "      <td>...</td>\n",
       "      <td>...</td>\n",
       "      <td>...</td>\n",
       "      <td>...</td>\n",
       "      <td>...</td>\n",
       "      <td>...</td>\n",
       "      <td>...</td>\n",
       "      <td>...</td>\n",
       "      <td>...</td>\n",
       "      <td>...</td>\n",
       "      <td>...</td>\n",
       "      <td>...</td>\n",
       "      <td>...</td>\n",
       "      <td>...</td>\n",
       "      <td>...</td>\n",
       "      <td>...</td>\n",
       "      <td>...</td>\n",
       "    </tr>\n",
       "    <tr>\n",
       "      <th>999995</th>\n",
       "      <td>-0.823740</td>\n",
       "      <td>0.285673</td>\n",
       "      <td>0.343307</td>\n",
       "      <td>-0.436747</td>\n",
       "      <td>1.700549</td>\n",
       "      <td>-1.069432</td>\n",
       "      <td>0.819698</td>\n",
       "      <td>-0.168457</td>\n",
       "      <td>-0.429074</td>\n",
       "      <td>0.844075</td>\n",
       "      <td>...</td>\n",
       "      <td>1.799592</td>\n",
       "      <td>-0.301352</td>\n",
       "      <td>5.339675</td>\n",
       "      <td>-0.991529</td>\n",
       "      <td>1.279494</td>\n",
       "      <td>-0.841051</td>\n",
       "      <td>-2.276500</td>\n",
       "      <td>1.762961</td>\n",
       "      <td>5.324553</td>\n",
       "      <td>-0.228733</td>\n",
       "    </tr>\n",
       "    <tr>\n",
       "      <th>999996</th>\n",
       "      <td>-0.769106</td>\n",
       "      <td>-0.387363</td>\n",
       "      <td>-1.227469</td>\n",
       "      <td>0.601183</td>\n",
       "      <td>0.351161</td>\n",
       "      <td>0.219475</td>\n",
       "      <td>-0.530277</td>\n",
       "      <td>0.853452</td>\n",
       "      <td>0.608646</td>\n",
       "      <td>1.648023</td>\n",
       "      <td>...</td>\n",
       "      <td>1.909697</td>\n",
       "      <td>-1.299360</td>\n",
       "      <td>-0.071713</td>\n",
       "      <td>-0.162173</td>\n",
       "      <td>0.072501</td>\n",
       "      <td>-0.614687</td>\n",
       "      <td>-1.265524</td>\n",
       "      <td>0.190385</td>\n",
       "      <td>-0.344112</td>\n",
       "      <td>-0.346807</td>\n",
       "    </tr>\n",
       "    <tr>\n",
       "      <th>999997</th>\n",
       "      <td>0.147534</td>\n",
       "      <td>-0.715276</td>\n",
       "      <td>-0.465049</td>\n",
       "      <td>-1.988941</td>\n",
       "      <td>-1.594535</td>\n",
       "      <td>-1.044882</td>\n",
       "      <td>3.159455</td>\n",
       "      <td>-0.634108</td>\n",
       "      <td>0.890382</td>\n",
       "      <td>-1.212444</td>\n",
       "      <td>...</td>\n",
       "      <td>2.891854</td>\n",
       "      <td>3.105002</td>\n",
       "      <td>-3.470520</td>\n",
       "      <td>NaN</td>\n",
       "      <td>0.096988</td>\n",
       "      <td>0.569255</td>\n",
       "      <td>3.609790</td>\n",
       "      <td>-0.584108</td>\n",
       "      <td>-1.492096</td>\n",
       "      <td>-0.997502</td>\n",
       "    </tr>\n",
       "    <tr>\n",
       "      <th>999998</th>\n",
       "      <td>-1.709886</td>\n",
       "      <td>-0.813785</td>\n",
       "      <td>-1.866536</td>\n",
       "      <td>-0.179420</td>\n",
       "      <td>2.231478</td>\n",
       "      <td>1.460122</td>\n",
       "      <td>-0.220585</td>\n",
       "      <td>-0.118496</td>\n",
       "      <td>-0.140064</td>\n",
       "      <td>1.362596</td>\n",
       "      <td>...</td>\n",
       "      <td>-1.135003</td>\n",
       "      <td>-5.127360</td>\n",
       "      <td>-3.903728</td>\n",
       "      <td>-1.597023</td>\n",
       "      <td>0.893159</td>\n",
       "      <td>0.379434</td>\n",
       "      <td>0.846266</td>\n",
       "      <td>-1.085554</td>\n",
       "      <td>3.122423</td>\n",
       "      <td>0.004831</td>\n",
       "    </tr>\n",
       "    <tr>\n",
       "      <th>999999</th>\n",
       "      <td>-0.806380</td>\n",
       "      <td>-0.025251</td>\n",
       "      <td>-0.875477</td>\n",
       "      <td>0.802440</td>\n",
       "      <td>0.889492</td>\n",
       "      <td>-1.030684</td>\n",
       "      <td>-0.209134</td>\n",
       "      <td>-0.341420</td>\n",
       "      <td>2.367991</td>\n",
       "      <td>0.314807</td>\n",
       "      <td>...</td>\n",
       "      <td>1.079820</td>\n",
       "      <td>-1.098772</td>\n",
       "      <td>-1.428362</td>\n",
       "      <td>-1.255175</td>\n",
       "      <td>0.509799</td>\n",
       "      <td>0.711470</td>\n",
       "      <td>-2.448386</td>\n",
       "      <td>2.334131</td>\n",
       "      <td>5.425421</td>\n",
       "      <td>-0.828847</td>\n",
       "    </tr>\n",
       "  </tbody>\n",
       "</table>\n",
       "<p>1000000 rows × 80 columns</p>\n",
       "</div>\n",
       "      <button class=\"colab-df-convert\" onclick=\"convertToInteractive('df-a4dfdd61-714c-49b7-9b64-e79e28462b4e')\"\n",
       "              title=\"Convert this dataframe to an interactive table.\"\n",
       "              style=\"display:none;\">\n",
       "        \n",
       "  <svg xmlns=\"http://www.w3.org/2000/svg\" height=\"24px\"viewBox=\"0 0 24 24\"\n",
       "       width=\"24px\">\n",
       "    <path d=\"M0 0h24v24H0V0z\" fill=\"none\"/>\n",
       "    <path d=\"M18.56 5.44l.94 2.06.94-2.06 2.06-.94-2.06-.94-.94-2.06-.94 2.06-2.06.94zm-11 1L8.5 8.5l.94-2.06 2.06-.94-2.06-.94L8.5 2.5l-.94 2.06-2.06.94zm10 10l.94 2.06.94-2.06 2.06-.94-2.06-.94-.94-2.06-.94 2.06-2.06.94z\"/><path d=\"M17.41 7.96l-1.37-1.37c-.4-.4-.92-.59-1.43-.59-.52 0-1.04.2-1.43.59L10.3 9.45l-7.72 7.72c-.78.78-.78 2.05 0 2.83L4 21.41c.39.39.9.59 1.41.59.51 0 1.02-.2 1.41-.59l7.78-7.78 2.81-2.81c.8-.78.8-2.07 0-2.86zM5.41 20L4 18.59l7.72-7.72 1.47 1.35L5.41 20z\"/>\n",
       "  </svg>\n",
       "      </button>\n",
       "      \n",
       "  <style>\n",
       "    .colab-df-container {\n",
       "      display:flex;\n",
       "      flex-wrap:wrap;\n",
       "      gap: 12px;\n",
       "    }\n",
       "\n",
       "    .colab-df-convert {\n",
       "      background-color: #E8F0FE;\n",
       "      border: none;\n",
       "      border-radius: 50%;\n",
       "      cursor: pointer;\n",
       "      display: none;\n",
       "      fill: #1967D2;\n",
       "      height: 32px;\n",
       "      padding: 0 0 0 0;\n",
       "      width: 32px;\n",
       "    }\n",
       "\n",
       "    .colab-df-convert:hover {\n",
       "      background-color: #E2EBFA;\n",
       "      box-shadow: 0px 1px 2px rgba(60, 64, 67, 0.3), 0px 1px 3px 1px rgba(60, 64, 67, 0.15);\n",
       "      fill: #174EA6;\n",
       "    }\n",
       "\n",
       "    [theme=dark] .colab-df-convert {\n",
       "      background-color: #3B4455;\n",
       "      fill: #D2E3FC;\n",
       "    }\n",
       "\n",
       "    [theme=dark] .colab-df-convert:hover {\n",
       "      background-color: #434B5C;\n",
       "      box-shadow: 0px 1px 3px 1px rgba(0, 0, 0, 0.15);\n",
       "      filter: drop-shadow(0px 1px 2px rgba(0, 0, 0, 0.3));\n",
       "      fill: #FFFFFF;\n",
       "    }\n",
       "  </style>\n",
       "\n",
       "      <script>\n",
       "        const buttonEl =\n",
       "          document.querySelector('#df-a4dfdd61-714c-49b7-9b64-e79e28462b4e button.colab-df-convert');\n",
       "        buttonEl.style.display =\n",
       "          google.colab.kernel.accessAllowed ? 'block' : 'none';\n",
       "\n",
       "        async function convertToInteractive(key) {\n",
       "          const element = document.querySelector('#df-a4dfdd61-714c-49b7-9b64-e79e28462b4e');\n",
       "          const dataTable =\n",
       "            await google.colab.kernel.invokeFunction('convertToInteractive',\n",
       "                                                     [key], {});\n",
       "          if (!dataTable) return;\n",
       "\n",
       "          const docLinkHtml = 'Like what you see? Visit the ' +\n",
       "            '<a target=\"_blank\" href=https://colab.research.google.com/notebooks/data_table.ipynb>data table notebook</a>'\n",
       "            + ' to learn more about interactive tables.';\n",
       "          element.innerHTML = '';\n",
       "          dataTable['output_type'] = 'display_data';\n",
       "          await google.colab.output.renderOutput(dataTable, element);\n",
       "          const docLink = document.createElement('div');\n",
       "          docLink.innerHTML = docLinkHtml;\n",
       "          element.appendChild(docLink);\n",
       "        }\n",
       "      </script>\n",
       "    </div>\n",
       "  </div>\n",
       "  "
      ],
      "text/plain": [
       "           F_1_0     F_1_1     F_1_2     F_1_3     F_1_4     F_1_5     F_1_6  \\\n",
       "row_id                                                                         \n",
       "0      -0.354591 -0.464038  2.304115  0.734486  1.696395  0.136285 -0.518344   \n",
       "1       1.380940 -0.499626 -0.418548  1.911725 -0.826130 -1.715371 -0.577091   \n",
       "2       0.256023 -1.059874       NaN  0.345678  1.513814  1.243864 -0.509648   \n",
       "3      -0.728420 -2.432399 -2.453602 -0.020509  0.333397  0.086049 -1.787601   \n",
       "4       0.590212 -0.066127  0.468009 -1.096038  0.119399 -1.809710  0.466358   \n",
       "...          ...       ...       ...       ...       ...       ...       ...   \n",
       "999995 -0.823740  0.285673  0.343307 -0.436747  1.700549 -1.069432  0.819698   \n",
       "999996 -0.769106 -0.387363 -1.227469  0.601183  0.351161  0.219475 -0.530277   \n",
       "999997  0.147534 -0.715276 -0.465049 -1.988941 -1.594535 -1.044882  3.159455   \n",
       "999998 -1.709886 -0.813785 -1.866536 -0.179420  2.231478  1.460122 -0.220585   \n",
       "999999 -0.806380 -0.025251 -0.875477  0.802440  0.889492 -1.030684 -0.209134   \n",
       "\n",
       "           F_1_7     F_1_8     F_1_9  ...     F_4_5     F_4_6     F_4_7  \\\n",
       "row_id                                ...                                 \n",
       "0       0.502640 -1.852504 -0.500665  ...  3.744152  0.794438  0.265185   \n",
       "1      -1.041486  0.596067 -0.363425  ... -2.895826 -0.738275  2.361818   \n",
       "2      -0.800481 -0.115945  0.595777  ...  2.252834  0.472496  2.491386   \n",
       "3       0.667011  0.761564 -2.217847  ...  2.004600 -4.664806 -0.847211   \n",
       "4      -0.053196 -0.580320 -1.143500  ...  0.976937  2.558883  3.377724   \n",
       "...          ...       ...       ...  ...       ...       ...       ...   \n",
       "999995 -0.168457 -0.429074  0.844075  ...  1.799592 -0.301352  5.339675   \n",
       "999996  0.853452  0.608646  1.648023  ...  1.909697 -1.299360 -0.071713   \n",
       "999997 -0.634108  0.890382 -1.212444  ...  2.891854  3.105002 -3.470520   \n",
       "999998 -0.118496 -0.140064  1.362596  ... -1.135003 -5.127360 -3.903728   \n",
       "999999 -0.341420  2.367991  0.314807  ...  1.079820 -1.098772 -1.428362   \n",
       "\n",
       "           F_4_8     F_4_9    F_4_10    F_4_11    F_4_12    F_4_13    F_4_14  \n",
       "row_id                                                                        \n",
       "0      -0.561809  0.196480  0.373434  6.206995  3.809505  1.236486  1.182055  \n",
       "1      -0.060753  0.727249 -0.271882  5.232157 -4.218259 -2.724883 -0.063775  \n",
       "2       0.353381 -0.260682 -0.000833 -0.116457 -2.131747  3.661499 -0.131576  \n",
       "3      -0.264249  0.664334 -0.557868  8.499483 -4.738799 -3.054611  0.494152  \n",
       "4       0.846891  0.696032  0.554121 -5.979714 -2.869631  3.733057 -0.722943  \n",
       "...          ...       ...       ...       ...       ...       ...       ...  \n",
       "999995 -0.991529  1.279494 -0.841051 -2.276500  1.762961  5.324553 -0.228733  \n",
       "999996 -0.162173  0.072501 -0.614687 -1.265524  0.190385 -0.344112 -0.346807  \n",
       "999997       NaN  0.096988  0.569255  3.609790 -0.584108 -1.492096 -0.997502  \n",
       "999998 -1.597023  0.893159  0.379434  0.846266 -1.085554  3.122423  0.004831  \n",
       "999999 -1.255175  0.509799  0.711470 -2.448386  2.334131  5.425421 -0.828847  \n",
       "\n",
       "[1000000 rows x 80 columns]"
      ]
     },
     "execution_count": 32,
     "metadata": {},
     "output_type": "execute_result"
    }
   ],
   "source": [
    "data"
   ]
  },
  {
   "cell_type": "code",
   "execution_count": 33,
   "id": "ee9ba637",
   "metadata": {
    "colab": {
     "base_uri": "https://localhost:8080/",
     "height": 520
    },
    "id": "ee9ba637",
    "outputId": "3376cf4d-80d9-4770-b8a5-1a0dda45bfaf"
   },
   "outputs": [
    {
     "data": {
      "text/plain": [
       "<matplotlib.axes._subplots.AxesSubplot at 0x7f71bf937290>"
      ]
     },
     "execution_count": 33,
     "metadata": {},
     "output_type": "execute_result"
    },
    {
     "data": {
      "image/png": "[encoded data removed]",
      "text/plain": [
       "<Figure size 1800x720 with 2 Axes>"
      ]
     },
     "metadata": {
      "needs_background": "light"
     },
     "output_type": "display_data"
    }
   ],
   "source": [
    "msno.matrix(data)"
   ]
  },
  {
   "cell_type": "code",
   "execution_count": 34,
   "id": "fbba8e45",
   "metadata": {
    "colab": {
     "base_uri": "https://localhost:8080/"
    },
    "id": "fbba8e45",
    "outputId": "19bce811-491f-4a59-8e41-b47bfcc630cc"
   },
   "outputs": [
    {
     "name": "stdout",
     "output_type": "stream",
     "text": [
      "Le dataset comporte 1.25 % de Nans\n"
     ]
    }
   ],
   "source": [
    "print(f\"Le dataset comporte {data.isna().sum().sum() / data.size * 100} % de Nans\")"
   ]
  },
  {
   "cell_type": "code",
   "execution_count": 35,
   "id": "62caefa3-4189-4792-b1b3-117f8747e4e1",
   "metadata": {
    "colab": {
     "base_uri": "https://localhost:8080/"
    },
    "id": "62caefa3-4189-4792-b1b3-117f8747e4e1",
    "outputId": "f6b0a3b8-5bdc-4314-a7c2-2e01d632832d"
   },
   "outputs": [
    {
     "data": {
      "text/plain": [
       "float64    55\n",
       "int64      25\n",
       "dtype: int64"
      ]
     },
     "execution_count": 35,
     "metadata": {},
     "output_type": "execute_result"
    }
   ],
   "source": [
    "data.dtypes.value_counts()"
   ]
  },
  {
   "cell_type": "code",
   "execution_count": 36,
   "id": "3f66f147",
   "metadata": {
    "id": "3f66f147"
   },
   "outputs": [],
   "source": [
    "#sélection de toutes les colonnes \n",
    "\n",
    "mask_int64 = data.dtypes == 'int64'"
   ]
  },
  {
   "cell_type": "code",
   "execution_count": 37,
   "id": "24d7ea48-596c-4fd1-9af2-87eeb8c47a7a",
   "metadata": {
    "colab": {
     "base_uri": "https://localhost:8080/"
    },
    "id": "24d7ea48-596c-4fd1-9af2-87eeb8c47a7a",
    "outputId": "95d42ba0-1edd-4107-ebe4-e84ee9c2638a"
   },
   "outputs": [
    {
     "data": {
      "text/plain": [
       "Index(['F_2_0', 'F_2_1', 'F_2_2', 'F_2_3', 'F_2_4', 'F_2_5', 'F_2_6', 'F_2_7',\n",
       "       'F_2_8', 'F_2_9', 'F_2_10', 'F_2_11', 'F_2_12', 'F_2_13', 'F_2_14',\n",
       "       'F_2_15', 'F_2_16', 'F_2_17', 'F_2_18', 'F_2_19', 'F_2_20', 'F_2_21',\n",
       "       'F_2_22', 'F_2_23', 'F_2_24'],\n",
       "      dtype='object')"
      ]
     },
     "execution_count": 37,
     "metadata": {},
     "output_type": "execute_result"
    }
   ],
   "source": [
    "#liste des colonnes int64\n",
    "data.loc[:, data.columns[mask_int64]].columns"
   ]
  },
  {
   "cell_type": "code",
   "execution_count": 38,
   "id": "fb7c8b1c",
   "metadata": {
    "id": "fb7c8b1c"
   },
   "outputs": [],
   "source": [
    "def split_cols(col):\n",
    "    splitted = col.split('_')\n",
    "    return splitted[1], splitted[2]"
   ]
  },
  {
   "cell_type": "markdown",
   "id": "a8e0f2c5",
   "metadata": {
    "id": "a8e0f2c5"
   },
   "source": [
    "F_2_xx : int64\n",
    "F_x_yy (x!=2) : float 64"
   ]
  },
  {
   "cell_type": "code",
   "execution_count": 39,
   "id": "5c242087-6d1b-45e4-a2cc-2c9539973655",
   "metadata": {
    "colab": {
     "base_uri": "https://localhost:8080/"
    },
    "id": "5c242087-6d1b-45e4-a2cc-2c9539973655",
    "outputId": "52739e61-5aef-48af-d098-05fd3c95e61d"
   },
   "outputs": [
    {
     "name": "stdout",
     "output_type": "stream",
     "text": [
      "Les colonnes commençant par F_2 possèdent au total 0 Nans\n"
     ]
    }
   ],
   "source": [
    "#vérification du nombre de nans dans les colonnes commençant par F_2\n",
    "\n",
    "print(f\"Les colonnes commençant par F_2 possèdent au total {data.rename(columns=lambda x: split_cols(x)[0]).loc[:,'2'].isna().sum().sum()} Nans\")"
   ]
  },
  {
   "cell_type": "code",
   "execution_count": 40,
   "id": "396bf5a3",
   "metadata": {
    "id": "396bf5a3"
   },
   "outputs": [],
   "source": [
    "pearsoncorr = data.loc[:, data.columns[~mask_int64]].corr()"
   ]
  },
  {
   "cell_type": "code",
   "execution_count": null,
   "id": "06a4c791",
   "metadata": {
    "colab": {
     "base_uri": "https://localhost:8080/"
    },
    "id": "06a4c791",
    "outputId": "8f72d594-f520-4e4d-a881-59e115f2b99d"
   },
   "outputs": [
    {
     "data": {
      "text/plain": [
       "<matplotlib.axes._subplots.AxesSubplot at 0x7f71b25598d0>"
      ]
     },
     "execution_count": 41,
     "metadata": {},
     "output_type": "execute_result"
    }
   ],
   "source": [
    "plt.figure(figsize=(30, 30))\n",
    "sns.heatmap(np.abs(pearsoncorr), \n",
    "            xticklabels=pearsoncorr.columns,\n",
    "            yticklabels=pearsoncorr.columns,\n",
    "            cmap='RdBu_r',\n",
    "            annot=True,\n",
    "            linewidth=0.5)"
   ]
  },
  {
   "cell_type": "code",
   "execution_count": null,
   "id": "5ae25df3",
   "metadata": {
    "id": "5ae25df3"
   },
   "outputs": [],
   "source": [
    "#zoom sur les corrélations entre les colonnes commençant par F_4 seulement \n",
    "\n",
    "pearsoncorr_4 = pearsoncorr.loc[[row for row in pearsoncorr.index if row.split('_')[1] == '4'],\n",
    "                                [col for col in pearsoncorr.columns if (col.split('_')[1] == '4')]]\n",
    "\n",
    "plt.figure(figsize=(15, 7))\n",
    "sns.heatmap(np.abs(pearsoncorr_4), \n",
    "            xticklabels=pearsoncorr_4.columns,\n",
    "            yticklabels=pearsoncorr_4.columns,\n",
    "            cmap='RdBu_r',\n",
    "            annot=True,\n",
    "            linewidth=0.5)"
   ]
  },
  {
   "cell_type": "code",
   "execution_count": null,
   "id": "f9584ecb",
   "metadata": {
    "id": "f9584ecb"
   },
   "outputs": [],
   "source": [
    "print(f\"\"\"Les colonnes comportant des nans ont en moyenne {round(data.loc[:, data.columns[~mask_int64]].isna().mean().mean()*100, 2)} % de nans\n",
    "avec une moyenne minimale de {round(data.loc[:, data.columns[~mask_int64]].isna().mean().min()*100,2)} % de nans\n",
    "et une moyenne maximale de {round(data.loc[:, data.columns[~mask_int64]].isna().mean().max()*100, 2)} % de nans\"\"\")"
   ]
  },
  {
   "cell_type": "code",
   "execution_count": null,
   "id": "rqAZn0hBc1pW",
   "metadata": {
    "id": "rqAZn0hBc1pW"
   },
   "outputs": [],
   "source": [
    "from lightgbm import LGBMRegressor\n",
    "from sklearn.metrics import r2_score\n",
    "import random\n",
    "\n",
    "\n",
    "list_F_4 = [col for col in pearsoncorr.columns if (col.split('_')[1] == '4')]\n",
    "data_F_4 = data.loc[:, list_F_4]\n",
    "\n",
    "d = {}\n",
    "\n",
    "train_percentage = .01\n",
    "\n",
    "for col_4 in list_F_4:\n",
    "    clf = LGBMRegressor(n_estimators=20000,metric='r2')\n",
    "    X, y = data_F_4[set(list_F_4).difference({col_4})], data_F_4[[col_4]]\n",
    "\n",
    "    idx_train = list(y[~y[col_4].isna()].index)\n",
    "    idx_train = random.sample(idx_train, round(len(idx_train)*train_percentage))\n",
    "    idx_test = list(y[y[col_4].isna()].index)\n",
    "\n",
    "    X_train , y_train, X_test, y_test = X.loc[idx_train], y.loc[idx_train], X.loc[idx_test], y.loc[idx_test]\n",
    "\n",
    "    clf.fit(X_train, y_train)\n",
    "    d[col_4] = clf.predict(X_test)\n",
    "    print(col_4 + \" processed\")"
   ]
  },
  {
   "cell_type": "code",
   "execution_count": null,
   "id": "iBPgyowIJ_BS",
   "metadata": {
    "id": "iBPgyowIJ_BS"
   },
   "outputs": [],
   "source": [
    "for col in list(d.keys()):\n",
    "    data[col][data[col].isna()] = d[col]"
   ]
  },
  {
   "cell_type": "code",
   "execution_count": null,
   "id": "MiilINlZ6KdA",
   "metadata": {
    "id": "MiilINlZ6KdA"
   },
   "outputs": [],
   "source": [
    "from sklearn.impute import SimpleImputer\n",
    "imp = SimpleImputer(\n",
    "         missing_values=np.nan,\n",
    "         strategy='mean') \n",
    "data[:] = imp.fit_transform(data)"
   ]
  },
  {
   "cell_type": "code",
   "execution_count": null,
   "id": "Rs4cK26WTm64",
   "metadata": {
    "id": "Rs4cK26WTm64"
   },
   "outputs": [],
   "source": [
    "data.isna().sum().sum()"
   ]
  },
  {
   "cell_type": "code",
   "execution_count": null,
   "id": "shh49Olk1cYE",
   "metadata": {
    "id": "shh49Olk1cYE"
   },
   "outputs": [],
   "source": [
    "def automated_sub_func_melt(data, sub):\n",
    "\n",
    "    melt_data = pd.melt(data.reset_index(), id_vars='row_id', value_vars=data.columns, var_name='Column', value_name='Value')\n",
    "    melt_data['row_id'] = melt_data['row_id'].astype(np.int32)\n",
    "    melt_data['row-col'] = melt_data['row_id'].astype(str) + '-' + melt_data['Column']\n",
    "    melt_data = melt_data.loc[melt_data['row-col'].isin(sub['row-col']), :]\n",
    "    melt_data['sort1'] = melt_data['Column'].str.split('_', expand=True)[1]\n",
    "    melt_data['sort1'] = melt_data['sort1'].astype(np.int8)\n",
    "    melt_data['sort2'] = melt_data['Column'].str.split('_', expand=True)[2]\n",
    "    melt_data['sort2'] = melt_data['sort2'].astype(np.int8)\n",
    "    melt_data.sort_values(['row_id', 'sort1', 'sort2'], ascending=True, inplace=True)\n",
    "    sub['value'] = melt_data['Value'].values\n",
    "    return sub"
   ]
  },
  {
   "cell_type": "code",
   "execution_count": null,
   "id": "QmEKKpq2mAvg",
   "metadata": {
    "id": "QmEKKpq2mAvg"
   },
   "outputs": [],
   "source": [
    "import time \n",
    "start_time = time.time()\n",
    "new_sub = automated_sub_func_melt(data, sub.copy())\n",
    "print(time.time() - start_time, \"seconds\")\n",
    "new_sub.head()"
   ]
  },
  {
   "cell_type": "code",
   "execution_count": null,
   "id": "5aD4TK-FaWIH",
   "metadata": {
    "id": "5aD4TK-FaWIH"
   },
   "outputs": [],
   "source": [
    "path_save = '/content/drive/MyDrive/OpenClassRooms/Projet 8/predictions.csv'\n",
    "new_sub.to_csv(path_save, index = False)"
   ]
  },
  {
   "cell_type": "code",
   "execution_count": null,
   "id": "c36deeec",
   "metadata": {
    "id": "c36deeec"
   },
   "outputs": [],
   "source": []
  },
  {
   "cell_type": "code",
   "execution_count": null,
   "id": "AoNw-6kiZl7b",
   "metadata": {
    "id": "AoNw-6kiZl7b"
   },
   "outputs": [],
   "source": []
  },
  {
   "cell_type": "code",
   "execution_count": null,
   "id": "1J1JRP291v09",
   "metadata": {
    "id": "1J1JRP291v09"
   },
   "outputs": [],
   "source": []
  }
 ],
 "metadata": {
  "accelerator": "GPU",
  "colab": {
   "collapsed_sections": [],
   "machine_shape": "hm",
   "name": "EDA.ipynb",
   "provenance": []
  },
  "kernelspec": {
   "display_name": "Python 3",
   "language": "python",
   "name": "python3"
  },
  "language_info": {
   "codemirror_mode": {
    "name": "ipython",
    "version": 3
   },
   "file_extension": ".py",
   "mimetype": "text/x-python",
   "name": "python",
   "nbconvert_exporter": "python",
   "pygments_lexer": "ipython3",
   "version": "3.8.8"
  }
 },
 "nbformat": 4,
 "nbformat_minor": 5
}
